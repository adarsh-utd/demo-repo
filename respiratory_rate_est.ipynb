{
  "nbformat": 4,
  "nbformat_minor": 0,
  "metadata": {
    "colab": {
      "name": "respiratory-rate est.ipynb",
      "provenance": [],
      "collapsed_sections": [],
      "authorship_tag": "ABX9TyMTf8OqSUidW42EvG52UdEj",
      "include_colab_link": true
    },
    "kernelspec": {
      "name": "python3",
      "display_name": "Python 3"
    },
    "language_info": {
      "name": "python"
    },
    "accelerator": "GPU"
  },
  "cells": [
    {
      "cell_type": "markdown",
      "metadata": {
        "id": "view-in-github",
        "colab_type": "text"
      },
      "source": [
        "<a href=\"https://colab.research.google.com/github/adarsh-utd/demo-repo/blob/main/respiratory_rate_est.ipynb\" target=\"_parent\"><img src=\"https://colab.research.google.com/assets/colab-badge.svg\" alt=\"Open In Colab\"/></a>"
      ]
    },
    {
      "cell_type": "code",
      "metadata": {
        "id": "F6PBdd3ueNby"
      },
      "source": [
        "import numpy as np\n",
        "import scipy as sp\n",
        "from scipy import signal\n",
        "import pandas as pd\n",
        "\n",
        "from numpy.fft import fft"
      ],
      "execution_count": null,
      "outputs": []
    },
    {
      "cell_type": "code",
      "metadata": {
        "id": "NCTb0OjHgMob"
      },
      "source": [
        "from scipy.signal import butter, filtfilt\n",
        "import matplotlib.pyplot as plt\n",
        "\n"
      ],
      "execution_count": null,
      "outputs": []
    },
    {
      "cell_type": "code",
      "metadata": {
        "id": "3FtVZLmsJIA5"
      },
      "source": [
        "from numpy import genfromtxt"
      ],
      "execution_count": null,
      "outputs": []
    },
    {
      "cell_type": "code",
      "metadata": {
        "colab": {
          "base_uri": "https://localhost:8080/"
        },
        "id": "SGNLWVKXgqIl",
        "outputId": "9a2beff0-d459-4920-ce46-657457101b3a"
      },
      "source": [
        "\n",
        "data=np.genfromtxt('/content/bidmc_03_Signals.csv',delimiter=',',skip_header=1)\n",
        "data.view()\n",
        "\n"
      ],
      "execution_count": null,
      "outputs": [
        {
          "output_type": "execute_result",
          "data": {
            "text/plain": [
              "array([[0.0000e+00, 2.0626e-01, 1.8866e-01, ..., 5.3033e-01, 4.3966e-01,\n",
              "        3.7040e+01],\n",
              "       [8.0000e-03, 2.0821e-01, 2.0137e-01, ..., 5.2544e-01, 4.2980e-01,\n",
              "        3.7040e+01],\n",
              "       [1.6000e-02, 2.1017e-01, 2.1994e-01, ..., 5.3523e-01, 4.1995e-01,\n",
              "        3.7040e+01],\n",
              "       ...,\n",
              "       [4.7998e+02, 2.6002e-01, 4.1153e-01, ..., 5.3033e-01, 4.3966e-01,\n",
              "        1.5059e+01],\n",
              "       [4.7999e+02, 2.6002e-01, 4.5552e-01, ..., 5.3523e-01, 4.3473e-01,\n",
              "        1.4746e+01],\n",
              "       [4.8000e+02, 2.5904e-01, 4.9658e-01, ..., 5.3033e-01, 4.3473e-01,\n",
              "        1.4433e+01]])"
            ]
          },
          "metadata": {
            "tags": []
          },
          "execution_count": 42
        }
      ]
    },
    {
      "cell_type": "code",
      "metadata": {
        "id": "7RIyLuDWg9zA"
      },
      "source": [
        "fs=125\n",
        "ls=.1\n",
        "hs=.5\n",
        "def butter_bandpass(ls,hs,fs,order=5):\n",
        "  nyq=.5*fs\n",
        "  low=ls/nyq\n",
        "  high=hs/nyq\n",
        "  b,a=butter(order,[low,high],btype='band')\n",
        "  return b,a\n",
        "  "
      ],
      "execution_count": null,
      "outputs": []
    },
    {
      "cell_type": "code",
      "metadata": {
        "id": "GBaYI8Wwjzwr"
      },
      "source": [
        "def butter_bandpass_filter(data,ls,hs,fs,order=2):\n",
        "  b,a=butter_bandpass(ls,hs,fs,order=2)\n",
        "  x=filtfilt(b,a,data[:,1])\n",
        "  return x"
      ],
      "execution_count": null,
      "outputs": []
    },
    {
      "cell_type": "code",
      "metadata": {
        "colab": {
          "base_uri": "https://localhost:8080/",
          "height": 265
        },
        "id": "VzjXpYEBj0yo",
        "outputId": "f7413a48-e37f-4a64-ee66-dd8f87ab986d"
      },
      "source": [
        "signal=data\n",
        "v1=butter_bandpass_filter(signal,ls,hs,fs)\n",
        "plt.plot(v1)\n",
        "plt.show()"
      ],
      "execution_count": null,
      "outputs": [
        {
          "output_type": "display_data",
          "data": {
            "image/png": "[encoded data removed]",
            "text/plain": [
              "<Figure size 432x288 with 1 Axes>"
            ]
          },
          "metadata": {
            "tags": [],
            "needs_background": "light"
          }
        }
      ]
    },
    {
      "cell_type": "code",
      "metadata": {
        "id": "j1uaDZ2k1VQs"
      },
      "source": [
        "import warnings\n"
      ],
      "execution_count": null,
      "outputs": []
    },
    {
      "cell_type": "code",
      "metadata": {
        "id": "fAtry4Nm3pJH"
      },
      "source": [
        "warnings.filterwarnings(action=\"ignore\", module=\"scipy\", message=\"^internal gelsd\")\n"
      ],
      "execution_count": null,
      "outputs": []
    },
    {
      "cell_type": "code",
      "metadata": {
        "colab": {
          "base_uri": "https://localhost:8080/",
          "height": 360
        },
        "id": "hqRkeqHnuqqQ",
        "outputId": "bc9c1f25-beeb-41f7-f755-18fac426deb1"
      },
      "source": [
        "\n",
        "f,Pxx_den=signal.periodogram(v1,fs)\n",
        "plt.semilogy(f, Pxx_den)\n",
        "plt.plot(f,Pxx_den)\n",
        "plt.xlabel('frequency [Hz]')\n",
        "plt.ylabel('PSD [V**2/Hz]')\n",
        "plt.show()\n",
        "print(f)\n",
        "y=np.argmax(Pxx_den)\n",
        "print(y)\n",
        "freq=f[y]\n",
        "print(freq)\n",
        "time=1/freq\n",
        "rr=60/time\n",
        "print(rr)\n",
        "\n",
        "\n",
        "   \n",
        "\n"
      ],
      "execution_count": null,
      "outputs": [
        {
          "output_type": "display_data",
          "data": {
            "image/png": "[encoded data removed]",
            "text/plain": [
              "<Figure size 432x288 with 1 Axes>"
            ]
          },
          "metadata": {
            "tags": [],
            "needs_background": "light"
          }
        },
        {
          "output_type": "stream",
          "text": [
            "[0.00000000e+00 2.08329861e-03 4.16659722e-03 ... 6.24947918e+01\n",
            " 6.24968751e+01 6.24989584e+01]\n",
            "142\n",
            "0.2958284028599523\n",
            "17.749704171597138\n"
          ],
          "name": "stdout"
        }
      ]
    },
    {
      "cell_type": "code",
      "metadata": {
        "id": "oI5ByifyhLeg"
      },
      "source": [
        ""
      ],
      "execution_count": null,
      "outputs": []
    },
    {
      "cell_type": "code",
      "metadata": {
        "id": "aAYDNkdLdVER"
      },
      "source": [
        ""
      ],
      "execution_count": null,
      "outputs": []
    }
  ]
}